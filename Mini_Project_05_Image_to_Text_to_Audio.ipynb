{
  "nbformat": 4,
  "nbformat_minor": 0,
  "metadata": {
    "colab": {
      "provenance": [],
      "authorship_tag": "ABX9TyM6TOTeHE9CFhjAdTGXSt7u",
      "include_colab_link": true
    },
    "kernelspec": {
      "name": "python3",
      "display_name": "Python 3"
    },
    "language_info": {
      "name": "python"
    }
  },
  "cells": [
    {
      "cell_type": "markdown",
      "metadata": {
        "id": "view-in-github",
        "colab_type": "text"
      },
      "source": [
        "<a href=\"https://colab.research.google.com/github/daini10421/Mini-Project-05-Image-to-Text-to-Audio/blob/main/Mini_Project_05_Image_to_Text_to_Audio.ipynb\" target=\"_parent\"><img src=\"https://colab.research.google.com/assets/colab-badge.svg\" alt=\"Open In Colab\"/></a>"
      ]
    },
    {
      "cell_type": "code",
      "execution_count": 2,
      "metadata": {
        "colab": {
          "base_uri": "https://localhost:8080/"
        },
        "id": "fPhk2YpO08Vs",
        "outputId": "1e6a5802-4026-4186-9874-db2fc8be85db"
      },
      "outputs": [
        {
          "output_type": "stream",
          "name": "stdout",
          "text": [
            "Reading package lists... Done\n",
            "Building dependency tree       \n",
            "Reading state information... Done\n",
            "tesseract-ocr is already the newest version (4.1.1-2build2).\n",
            "0 upgraded, 0 newly installed, 0 to remove and 13 not upgraded.\n",
            "Looking in indexes: https://pypi.org/simple, https://us-python.pkg.dev/colab-wheels/public/simple/\n",
            "Requirement already satisfied: pytesseract in /usr/local/lib/python3.10/dist-packages (0.3.10)\n",
            "Requirement already satisfied: packaging>=21.3 in /usr/local/lib/python3.10/dist-packages (from pytesseract) (23.1)\n",
            "Requirement already satisfied: Pillow>=8.0.0 in /usr/local/lib/python3.10/dist-packages (from pytesseract) (9.0.0)\n",
            "Looking in indexes: https://pypi.org/simple, https://us-python.pkg.dev/colab-wheels/public/simple/\n",
            "Requirement already satisfied: Pillow==9.0.0 in /usr/local/lib/python3.10/dist-packages (9.0.0)\n",
            "Looking in indexes: https://pypi.org/simple, https://us-python.pkg.dev/colab-wheels/public/simple/\n",
            "Requirement already satisfied: gTTS in /usr/local/lib/python3.10/dist-packages (2.3.2)\n",
            "Requirement already satisfied: requests<3,>=2.27 in /usr/local/lib/python3.10/dist-packages (from gTTS) (2.27.1)\n",
            "Requirement already satisfied: click<8.2,>=7.1 in /usr/local/lib/python3.10/dist-packages (from gTTS) (8.1.3)\n",
            "Requirement already satisfied: urllib3<1.27,>=1.21.1 in /usr/local/lib/python3.10/dist-packages (from requests<3,>=2.27->gTTS) (1.26.16)\n",
            "Requirement already satisfied: certifi>=2017.4.17 in /usr/local/lib/python3.10/dist-packages (from requests<3,>=2.27->gTTS) (2023.5.7)\n",
            "Requirement already satisfied: charset-normalizer~=2.0.0 in /usr/local/lib/python3.10/dist-packages (from requests<3,>=2.27->gTTS) (2.0.12)\n",
            "Requirement already satisfied: idna<4,>=2.5 in /usr/local/lib/python3.10/dist-packages (from requests<3,>=2.27->gTTS) (3.4)\n"
          ]
        }
      ],
      "source": [
        "!sudo apt install tesseract-ocr\n",
        "!pip install pytesseract\n",
        "!pip install Pillow==9.0.0\n",
        "!pip install gTTS"
      ]
    },
    {
      "cell_type": "code",
      "source": [
        "\n",
        "import pytesseract\n",
        "from PIL import Image\n",
        "import pygame\n",
        "import gtts"
      ],
      "metadata": {
        "colab": {
          "base_uri": "https://localhost:8080/"
        },
        "id": "kic5GUWS1K5q",
        "outputId": "68cbee51-c5e4-46d5-d6b8-8b877ad1b4ba"
      },
      "execution_count": 3,
      "outputs": [
        {
          "output_type": "stream",
          "name": "stdout",
          "text": [
            "pygame 2.4.0 (SDL 2.26.4, Python 3.10.12)\n",
            "Hello from the pygame community. https://www.pygame.org/contribute.html\n"
          ]
        }
      ]
    },
    {
      "cell_type": "code",
      "source": [
        "img = Image.open('/content/img.png')\n",
        "print(img)"
      ],
      "metadata": {
        "colab": {
          "base_uri": "https://localhost:8080/"
        },
        "id": "UMr8m7F91O4H",
        "outputId": "59a8d948-4f0c-4623-98c6-6680787091c9"
      },
      "execution_count": 6,
      "outputs": [
        {
          "output_type": "stream",
          "name": "stdout",
          "text": [
            "<PIL.PngImagePlugin.PngImageFile image mode=RGBA size=1024x990 at 0x7FDCC808B040>\n"
          ]
        }
      ]
    },
    {
      "cell_type": "code",
      "source": [
        "result = pytesseract.image_to_string(Image.open('/content/img.png'))\n",
        "print(result)\n",
        "tts = gtts.gTTS(result)\n",
        "tts.save(\"hello.mp3\")"
      ],
      "metadata": {
        "colab": {
          "base_uri": "https://localhost:8080/"
        },
        "id": "8q_tlkcJ1mly",
        "outputId": "27fe9904-2df5-44b8-c158-77104e5dca7b"
      },
      "execution_count": 7,
      "outputs": [
        {
          "output_type": "stream",
          "name": "stdout",
          "text": [
            "Question 2: Generating a vector of random letters\n",
            "Definition\n",
            "\n",
            "In this question we define code reads in a number n and uses a for-loop to create a n-element vector of characters\n",
            "called randLetters containing random lower-case letters from the alphabet.\n",
            "\n",
            "Testing\n",
            "\n",
            "On paper, or in a text file, write three new tests for the above program. Note that, because the output is random the\n",
            "content of the output can vary. Because of this, you should write any valid outputs of the correct length. As an example,\n",
            "two tests for this program might be.\n",
            "\n",
            "n randLetters\n",
            "5 ‘zidhl*\n",
            "8 ‘phgsgdii*\n",
            "\n",
            "Coding\n",
            "\n",
            "If you are sharing a computer, swap a new group member to the terminal. Write a MATLAB script called q2.m that\n",
            "implements the definition above using a for-loop. Note, you will need to generate a random character in the range of 'a’\n",
            "to 'z. There are a few ways to do this. One way is to make use of built-in MATLAB functions that convert between\n",
            "unsigned integer and character types. Some code that generates a random lower case letter this way\n",
            "\n",
            " \n",
            "\n",
            "randChar=char(randi(26)+'a')\n",
            "\n",
            "This code will work but is not that easy to modify to select from different sets of letters such as the vowel letters. A\n",
            "more versatile way to generate random letters is:\n",
            "\n",
            " \n",
            "\n",
            " \n",
            "\n",
            "indi (length(letters));\n",
            "randChar=letters (index);\n",
            "\n",
            "In the code above you can simply change the contents of the letters array to get a different set of letters to select from.\n",
            "For example, some code to generate a random lower case vowel character is:\n",
            "\n",
            " \n",
            "\n",
            " \n",
            "\n",
            "indi (length(letters));\n",
            "randChar=letters (index) ;\n",
            "\f\n"
          ]
        }
      ]
    }
  ]
}